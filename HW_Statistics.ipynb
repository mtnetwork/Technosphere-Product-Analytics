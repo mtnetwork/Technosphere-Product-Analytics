{
 "cells": [
  {
   "cell_type": "markdown",
   "metadata": {},
   "source": [
    "### Темнова Мария"
   ]
  },
  {
   "cell_type": "markdown",
   "metadata": {},
   "source": [
    "# ДЗ \"Проверка статистических гипотез\"\n",
    "## Z-критерий для несвязанных выборок\n",
    "Вчерашний дистанционный гос экзмен навеял. Посмотрим, как дистанционная сдача повлияла на количество отличных оценок за экзамен и повлияла ли. То есть проверим, есть ли разница между очной и дистанционной формой экзамена с точки зрения количества пятерок."
   ]
  },
  {
   "cell_type": "code",
   "execution_count": 435,
   "metadata": {},
   "outputs": [],
   "source": [
    "from collections import Counter\n",
    "import numpy as np\n",
    "import scipy\n",
    "from scipy import stats\n",
    "from scipy.stats import norm"
   ]
  },
  {
   "cell_type": "code",
   "execution_count": 422,
   "metadata": {},
   "outputs": [],
   "source": [
    "# Очный гос экзамен\n",
    "# Число студентов:\n",
    "N = 240\n",
    "a = [np.random.choice([2, 3, 4, 5], p=[0.02, 0.05, 0.13, 0.8]) for i in range(N)]\n",
    "# Число пятерок\n",
    "M = dict(Counter(a))[5]"
   ]
  },
  {
   "cell_type": "code",
   "execution_count": 423,
   "metadata": {},
   "outputs": [],
   "source": [
    "# Дистанционный гос экзамен\n",
    "# Число студентов:\n",
    "K = 300\n",
    "a = [np.random.choice([2, 3, 4, 5], p=[0.01, 0.01, 0.1, 0.88]) for i in range(K)]\n",
    "# Число пятерок\n",
    "L = dict(Counter(a))[5]"
   ]
  },
  {
   "cell_type": "code",
   "execution_count": 424,
   "metadata": {},
   "outputs": [
    {
     "data": {
      "text/plain": [
       "(197, 240)"
      ]
     },
     "execution_count": 424,
     "metadata": {},
     "output_type": "execute_result"
    }
   ],
   "source": [
    "# Число пятерок, всего оценок(очная форма)\n",
    "M, N"
   ]
  },
  {
   "cell_type": "code",
   "execution_count": 425,
   "metadata": {},
   "outputs": [
    {
     "data": {
      "text/plain": [
       "(264, 300)"
      ]
     },
     "execution_count": 425,
     "metadata": {},
     "output_type": "execute_result"
    }
   ],
   "source": [
    "# Число пятерок, всего оценок (дистанционная форма)\n",
    "L, K"
   ]
  },
  {
   "cell_type": "code",
   "execution_count": 426,
   "metadata": {},
   "outputs": [],
   "source": [
    "count_exc_marks = np.array([M, L])\n",
    "count_students = np.array([N, K])"
   ]
  },
  {
   "cell_type": "markdown",
   "metadata": {},
   "source": [
    "### Двусторонняя гипотеза: \n",
    "* H0: доля пятерок по двум форматам экзамена одинакова \n",
    "* H1: доля пятерок по дистанционному экзамену не равна доле пятерок по очному экзамену\n",
    "  \n",
    "Уровень значимости: a = 0.05"
   ]
  },
  {
   "cell_type": "code",
   "execution_count": 436,
   "metadata": {},
   "outputs": [],
   "source": [
    "def double_sided_ztest(count_exc_marks, count_students):\n",
    "\n",
    "    count_exc_marks = np.asarray(count_exc_marks)\n",
    "    count_students = np.asarray(count_students)\n",
    "\n",
    "    proportion = count_exc_marks / count_students\n",
    "    total_proportion = np.sum(count_exc_marks) / np.sum(count_students)\n",
    "    count_students_fact = np.sum(1 / count_students)\n",
    "    std_diff = np.sqrt(total_proportion * (1 - total_proportion) * count_students_fact)\n",
    "    \n",
    "    z_stat = (proportion[0] - proportion[1])  / std_diff\n",
    "    p_value = stats.norm.sf(np.abs(z_stat))*2\n",
    "    \n",
    "    return z_stat, p_value"
   ]
  },
  {
   "cell_type": "code",
   "execution_count": 437,
   "metadata": {},
   "outputs": [
    {
     "data": {
      "text/plain": [
       "(-1.933197489398971, 0.0532118739310336)"
      ]
     },
     "execution_count": 437,
     "metadata": {},
     "output_type": "execute_result"
    }
   ],
   "source": [
    "double_sided_ztest(count_exc_marks, count_students)"
   ]
  },
  {
   "cell_type": "markdown",
   "metadata": {},
   "source": [
    "#### => Не можем отвергнуть гипотезу H0."
   ]
  },
  {
   "cell_type": "markdown",
   "metadata": {},
   "source": [
    "### Левосторонняя гипотеза:\n",
    "* H0: доля пятерок по двум форматам экзамена одинакова\n",
    "* H1: доля пятерок по очному экзамену меньше доли пятерок по дистанционному экзамену\n",
    "\n",
    "Уровень значимости: a = 0.05"
   ]
  },
  {
   "cell_type": "code",
   "execution_count": 438,
   "metadata": {},
   "outputs": [],
   "source": [
    "def left_ztest(count_exc_marks, count_students):\n",
    "\n",
    "    count_exc_marks = np.asarray(count_exc_marks)\n",
    "    count_students = np.asarray(count_students)\n",
    "\n",
    "    proportion = count_exc_marks / count_students\n",
    "    total_proportion = np.sum(count_exc_marks) / np.sum(count_students)\n",
    "    count_students_fact = np.sum(1 / count_students)\n",
    "    std_diff = np.sqrt(total_proportion * (1 - total_proportion) * count_students_fact)\n",
    "    \n",
    "    z_stat = (proportion[0] - proportion[1])  / std_diff\n",
    "    p_value = stats.norm.cdf(z_stat)\n",
    "    \n",
    "    return z_stat, p_value"
   ]
  },
  {
   "cell_type": "code",
   "execution_count": 439,
   "metadata": {},
   "outputs": [
    {
     "data": {
      "text/plain": [
       "(-1.933197489398971, 0.0266059369655168)"
      ]
     },
     "execution_count": 439,
     "metadata": {},
     "output_type": "execute_result"
    }
   ],
   "source": [
    "left_ztest(count_exc_marks, count_students)"
   ]
  },
  {
   "cell_type": "markdown",
   "metadata": {},
   "source": [
    "#### => Можем отвергнуть гипотезу H0."
   ]
  },
  {
   "cell_type": "markdown",
   "metadata": {},
   "source": [
    "### Правосторонняя гипотеза:\n",
    "* H0: доля пятерок по двум форматам экзамена одинакова\n",
    "* H1: доля пятерок по очному экзамену больше доли пятерок по дистанциооному экзамену\n",
    "\n",
    "Уровень значимости: a = 0.05"
   ]
  },
  {
   "cell_type": "code",
   "execution_count": 440,
   "metadata": {},
   "outputs": [],
   "source": [
    "def right_ztest(count_exc_marks, count_students):\n",
    "\n",
    "    count_exc_marks = np.asarray(count_exc_marks)\n",
    "    count_students = np.asarray(count_students)\n",
    "\n",
    "    proportion = count_exc_marks / count_students\n",
    "    total_proportion = np.sum(count_exc_marks) / np.sum(count_students)\n",
    "    count_students_fact = np.sum(1 / count_students)\n",
    "    std_diff = np.sqrt(total_proportion * (1 - total_proportion) * count_students_fact)\n",
    "    \n",
    "    z_stat = (proportion[0] - proportion[1])  / std_diff\n",
    "    p_value = stats.norm.sf(z_stat)\n",
    "    \n",
    "    return z_stat, p_value"
   ]
  },
  {
   "cell_type": "code",
   "execution_count": 441,
   "metadata": {},
   "outputs": [
    {
     "data": {
      "text/plain": [
       "(-1.933197489398971, 0.9733940630344832)"
      ]
     },
     "execution_count": 441,
     "metadata": {},
     "output_type": "execute_result"
    }
   ],
   "source": [
    "right_ztest(count_exc_marks, count_students)"
   ]
  },
  {
   "cell_type": "markdown",
   "metadata": {},
   "source": [
    "#### => Не можем отвергнуть гипотезу H0."
   ]
  },
  {
   "cell_type": "markdown",
   "metadata": {},
   "source": [
    "### Проверка:"
   ]
  },
  {
   "cell_type": "code",
   "execution_count": 434,
   "metadata": {},
   "outputs": [
    {
     "name": "stdout",
     "output_type": "stream",
     "text": [
      "(-1.933197489398971, 0.0532118739310336) - двусторонняя гипотеза\n",
      "(-1.933197489398971, 0.0266059369655168) - левосторонняя гипотеза\n",
      "(-1.933197489398971, 0.9733940630344832) - правосторонняя гипотеза\n"
     ]
    }
   ],
   "source": [
    "from statsmodels.stats.proportion import proportions_ztest\n",
    "\n",
    "print(proportions_ztest(count_exc_marks, count_students, alternative='two-sided'), '- двусторонняя гипотеза')\n",
    "print(proportions_ztest(count_exc_marks, count_students, alternative='smaller'), '- левосторонняя гипотеза')\n",
    "print(proportions_ztest(count_exc_marks, count_students, alternative='larger'), '- правосторонняя гипотеза')"
   ]
  }
 ],
 "metadata": {
  "kernelspec": {
   "display_name": "Python 3",
   "language": "python",
   "name": "python3"
  },
  "language_info": {
   "codemirror_mode": {
    "name": "ipython",
    "version": 3
   },
   "file_extension": ".py",
   "mimetype": "text/x-python",
   "name": "python",
   "nbconvert_exporter": "python",
   "pygments_lexer": "ipython3",
   "version": "3.7.3"
  }
 },
 "nbformat": 4,
 "nbformat_minor": 2
}
